{
  "nbformat": 4,
  "nbformat_minor": 0,
  "metadata": {
    "colab": {
      "provenance": [],
      "authorship_tag": "ABX9TyOXuK1g++CqDWkYQ6AWmKTc",
      "include_colab_link": true
    },
    "kernelspec": {
      "name": "python3",
      "display_name": "Python 3"
    },
    "language_info": {
      "name": "python"
    }
  },
  "cells": [
    {
      "cell_type": "markdown",
      "metadata": {
        "id": "view-in-github",
        "colab_type": "text"
      },
      "source": [
        "<a href=\"https://colab.research.google.com/github/F19991375/Data-structure/blob/main/selection_sort.ipynb\" target=\"_parent\"><img src=\"https://colab.research.google.com/assets/colab-badge.svg\" alt=\"Open In Colab\"/></a>"
      ]
    },
    {
      "cell_type": "code",
      "execution_count": 4,
      "metadata": {
        "id": "TfRkTMscqxRG",
        "colab": {
          "base_uri": "https://localhost:8080/"
        },
        "outputId": "ec93de81-2097-4489-bf85-dba47806fcbb"
      },
      "outputs": [
        {
          "output_type": "stream",
          "name": "stdout",
          "text": [
            "[10, 6, 2, 1, 2, 10, 2, 9, 4]\n",
            "[1, 2, 2, 2, 4, 6, 9, 10, 10]\n"
          ]
        }
      ],
      "source": [
        "from random import randint as rnd\n",
        "amount = 10\n",
        "lst = [rnd(1,amount) for i in range(1,amount)]\n",
        "print(lst)\n",
        "length = len(lst)\n",
        "for i in range(length):\n",
        "  minpos = i\n",
        "  for j in range(i + 1, length):\n",
        "    if lst[j] < lst[minpos]:\n",
        "      minpos = j\n",
        "  lst[i] , lst[minpos] = lst[minpos] , lst[i]\n",
        "print(lst)"
      ]
    }
  ]
}