{
  "nbformat": 4,
  "nbformat_minor": 0,
  "metadata": {
    "colab": {
      "provenance": [],
      "authorship_tag": "ABX9TyPBXK0qNEkGOgCCS+fmdQiw",
      "include_colab_link": true
    },
    "kernelspec": {
      "name": "python3",
      "display_name": "Python 3"
    },
    "language_info": {
      "name": "python"
    }
  },
  "cells": [
    {
      "cell_type": "markdown",
      "metadata": {
        "id": "view-in-github",
        "colab_type": "text"
      },
      "source": [
        "<a href=\"https://colab.research.google.com/github/F19991375/Data-structure/blob/main/inorder_traversal_(BST).ipynb\" target=\"_parent\"><img src=\"https://colab.research.google.com/assets/colab-badge.svg\" alt=\"Open In Colab\"/></a>"
      ]
    },
    {
      "cell_type": "code",
      "execution_count": null,
      "metadata": {
        "id": "8dIJH3e3L7lS"
      },
      "outputs": [],
      "source": [
        "#time complexity O(n)\n",
        "#inorder traversal\n",
        "class TreeNode:\n",
        "  def __init__(self, data):\n",
        "    self.data = data\n",
        "    self.left = None\n",
        "    self.right = None\n",
        "  def inorder_traversal(self):\n",
        "    if self is None:\n",
        "      return\n",
        "    if self.left:\n",
        "      self.left.inorder_traversal()\n",
        "    print(self.data)\n",
        "    if self.right:\n",
        "      self.right.inorder_traversal()\n",
        "\n",
        "\n",
        "root = TreeNode(13)\n",
        "node7 = TreeNode(7)\n",
        "node3 = TreeNode(3)\n",
        "node8 = TreeNode(8)\n",
        "node15 = TreeNode(15)\n",
        "node14 = TreeNode(14)\n",
        "node19 = TreeNode(19)\n",
        "node18 = TreeNode(18)\n",
        "\n",
        "\n",
        "\n",
        "root.left = node7\n",
        "root.right  = node15\n",
        "node7.left = node3\n",
        "node7.right = node8\n",
        "node15.left = node14\n",
        "node15.right = node19\n",
        "node19.left = node18\n",
        "\n",
        "\n",
        "root.inorder_traversal()\n",
        "\n",
        "3\n",
        "7\n",
        "8\n",
        "13\n",
        "14\n",
        "15\n",
        "18\n",
        "19"
      ]
    }
  ]
}