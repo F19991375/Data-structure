{
  "nbformat": 4,
  "nbformat_minor": 0,
  "metadata": {
    "colab": {
      "provenance": [],
      "authorship_tag": "ABX9TyNHPzykCBa8b7wLd7FdQpi5",
      "include_colab_link": true
    },
    "kernelspec": {
      "name": "python3",
      "display_name": "Python 3"
    },
    "language_info": {
      "name": "python"
    }
  },
  "cells": [
    {
      "cell_type": "markdown",
      "metadata": {
        "id": "view-in-github",
        "colab_type": "text"
      },
      "source": [
        "<a href=\"https://colab.research.google.com/github/F19991375/Data-structure/blob/main/general_tree_part_2.ipynb\" target=\"_parent\"><img src=\"https://colab.research.google.com/assets/colab-badge.svg\" alt=\"Open In Colab\"/></a>"
      ]
    },
    {
      "cell_type": "code",
      "execution_count": 4,
      "metadata": {
        "colab": {
          "base_uri": "https://localhost:8080/"
        },
        "id": "SZ8nIndGP4fz",
        "outputId": "7652e119-5471-47be-81f0-ecac11ad7700"
      },
      "outputs": [
        {
          "output_type": "stream",
          "name": "stdout",
          "text": [
            "elctronics\n",
            " laptops\n",
            "  DELL\n",
            "  APPLE\n",
            "  ASUS\n",
            "  MSI\n",
            " phones\n",
            "  samsung\n",
            "  motorola\n",
            "  apple\n",
            " tv\n",
            "  samsung\n",
            "  sony\n"
          ]
        }
      ],
      "source": [
        "class Tree_node:\n",
        "  def __init__(self, data):\n",
        "    self.data = data\n",
        "    self.children = []\n",
        "    self.parent = None\n",
        "    self.level = 0\n",
        "\n",
        "  def add_child(self, child):\n",
        "    self.children.append(child)\n",
        "    child.parent = self\n",
        "    child.level = child.parent.level + 1\n",
        "\n",
        "  def print_tree(self, lvl = 1):\n",
        "    print(self.data)\n",
        "    for child in self.children:\n",
        "      print(\" \"*lvl, end = '')\n",
        "      child.print_tree(lvl+1)\n",
        "\n",
        "def create_tree():\n",
        "  root = Tree_node(\"elctronics\")\n",
        "\n",
        "  laptop = Tree_node(\"laptops\")\n",
        "  laptop.add_child(Tree_node(\"DELL\"))\n",
        "  laptop.add_child(Tree_node(\"APPLE\"))\n",
        "  laptop.add_child(Tree_node(\"ASUS\"))\n",
        "  laptop.add_child(Tree_node(\"MSI\"))\n",
        "\n",
        "  phones = Tree_node(\"phones\")\n",
        "  phones.add_child(Tree_node(\"samsung\"))\n",
        "  phones.add_child(Tree_node(\"motorola\"))\n",
        "  phones.add_child(Tree_node(\"apple\" ))\n",
        "\n",
        "  tv = Tree_node(\"tv\")\n",
        "  tv.add_child(Tree_node(\"samsung\"))\n",
        "  tv.add_child(Tree_node(\"sony\"))\n",
        "\n",
        "  root.add_child(laptop)\n",
        "  root.add_child(phones)\n",
        "  root.add_child(tv)\n",
        "  return root\n",
        "\n",
        "\n",
        "\n",
        "\n",
        "\n",
        "\n",
        "\n",
        "\n",
        "\n",
        "if __name__ == \"__main__\":\n",
        "  root = create_tree()\n",
        "  root.print_tree()\n",
        "\n",
        "\n",
        ""
      ]
    },
    {
      "cell_type": "code",
      "source": [],
      "metadata": {
        "id": "58tNCg3xVHfb"
      },
      "execution_count": null,
      "outputs": []
    }
  ]
}