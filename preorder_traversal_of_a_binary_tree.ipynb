{
  "nbformat": 4,
  "nbformat_minor": 0,
  "metadata": {
    "colab": {
      "provenance": [],
      "authorship_tag": "ABX9TyPsmScaWKpx7hVXDTynEqKe",
      "include_colab_link": true
    },
    "kernelspec": {
      "name": "python3",
      "display_name": "Python 3"
    },
    "language_info": {
      "name": "python"
    }
  },
  "cells": [
    {
      "cell_type": "markdown",
      "metadata": {
        "id": "view-in-github",
        "colab_type": "text"
      },
      "source": [
        "<a href=\"https://colab.research.google.com/github/F19991375/Data-structure/blob/main/preorder_traversal_of_a_binary_tree.ipynb\" target=\"_parent\"><img src=\"https://colab.research.google.com/assets/colab-badge.svg\" alt=\"Open In Colab\"/></a>"
      ]
    },
    {
      "cell_type": "code",
      "execution_count": null,
      "metadata": {
        "id": "Ji08wAmsG8Se"
      },
      "outputs": [],
      "source": [
        "#time complexity = O(N)"
      ]
    },
    {
      "cell_type": "code",
      "source": [
        "class TreeNode:\n",
        "  def __init__(self, data):\n",
        "    self.data = data\n",
        "    self.left = None\n",
        "    self.right = None\n",
        "  def preorder(self):\n",
        "    if self.data is None:\n",
        "      return\n",
        "    print(self.data, end = \"\")\n",
        "    if self.left:\n",
        "      self.left.preorder()\n",
        "    if self.right:\n",
        "      self.right.preorder()"
      ],
      "metadata": {
        "id": "ST9QPnkfHN0X"
      },
      "execution_count": 19,
      "outputs": []
    },
    {
      "cell_type": "code",
      "source": [
        "root = TreeNode(\"R\")\n",
        "nodeA = TreeNode(\"A\")\n",
        "nodeC = TreeNode(\"C\")\n",
        "nodeD = TreeNode(\"D\")\n",
        "nodeB = TreeNode(\"B\")\n",
        "nodeE = TreeNode(\"E\")\n",
        "nodeF = TreeNode(\"F\")\n",
        "nodeG = TreeNode(\"G\")"
      ],
      "metadata": {
        "id": "fOfflb8SKswG"
      },
      "execution_count": 23,
      "outputs": []
    },
    {
      "cell_type": "code",
      "source": [
        "\n",
        "root.left = nodeA\n",
        "root.right = nodeB\n",
        "nodeA.left = nodeC\n",
        "nodeA.right = nodeD\n",
        "nodeB.left = nodeE\n",
        "nodeB.right = nodeF\n",
        "nodeF.left = nodeG"
      ],
      "metadata": {
        "id": "IoIzK7-_H_UX"
      },
      "execution_count": 24,
      "outputs": []
    },
    {
      "cell_type": "code",
      "source": [
        "root.preorder()"
      ],
      "metadata": {
        "colab": {
          "base_uri": "https://localhost:8080/"
        },
        "id": "YTzwDVtTIqJ3",
        "outputId": "be286632-7a31-4b0f-f087-6868514d47e8"
      },
      "execution_count": 25,
      "outputs": [
        {
          "output_type": "stream",
          "name": "stdout",
          "text": [
            "RACDBEFG"
          ]
        }
      ]
    }
  ]
}